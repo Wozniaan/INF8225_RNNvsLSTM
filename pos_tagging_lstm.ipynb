{
 "cells": [
  {
   "cell_type": "code",
   "execution_count": 1,
   "metadata": {},
   "outputs": [],
   "source": [
    "import nltk\n",
    "import torch\n",
    "import torch.autograd as autograd\n",
    "import torch.nn as nn\n",
    "import torch.nn.functional as F\n",
    "import torch.optim as optim\n",
    "import matplotlib.pyplot as plt"
   ]
  },
  {
   "cell_type": "code",
   "execution_count": 2,
   "metadata": {},
   "outputs": [],
   "source": [
    "#nltk.download('brown')"
   ]
  },
  {
   "cell_type": "code",
   "execution_count": 3,
   "metadata": {},
   "outputs": [],
   "source": [
    "tagged_sent = nltk.corpus.brown.tagged_sents()"
   ]
  },
  {
   "cell_type": "code",
   "execution_count": 4,
   "metadata": {},
   "outputs": [],
   "source": [
    "data_set=[]\n",
    "for sentence in tagged_sent :\n",
    "    words=[]\n",
    "    tags=[]\n",
    "    words = [w[0] for w in sentence]\n",
    "    tags = [w[1] for w in sentence]\n",
    "    data_set.append((words,tags))\n",
    "data_set=data_set[:1000]"
   ]
  },
  {
   "cell_type": "code",
   "execution_count": 5,
   "metadata": {},
   "outputs": [],
   "source": [
    "def prepare_sequence(seq, to_ix):\n",
    "    idxs = [to_ix[w] for w in seq]\n",
    "    tensor = torch.LongTensor(idxs)\n",
    "    return autograd.Variable(tensor)\n",
    "\n",
    "word_to_ix = {}\n",
    "tag_dic ={}\n",
    "for sent, tags in data_set:\n",
    "    for word in sent:\n",
    "        if word not in word_to_ix:\n",
    "            word_to_ix[word] = len(word_to_ix)\n",
    "    for tag in tags :\n",
    "        if tag not in tag_dic :\n",
    "            tag_dic[tag] = len(tag_dic)\n",
    "#print(word_to_ix)\n",
    "\n",
    "EMBEDDING_DIM = 300\n",
    "HIDDEN_DIM = 200"
   ]
  },
  {
   "cell_type": "code",
   "execution_count": 6,
   "metadata": {},
   "outputs": [
    {
     "data": {
      "text/plain": [
       "{\"'\": 89,\n",
       " \"''\": 11,\n",
       " '(': 65,\n",
       " '(-HL': 93,\n",
       " ')': 66,\n",
       " ')-HL': 94,\n",
       " '*': 61,\n",
       " ',': 17,\n",
       " ',-HL': 84,\n",
       " '--': 71,\n",
       " '.': 15,\n",
       " ':': 64,\n",
       " 'ABL': 103,\n",
       " 'ABN': 53,\n",
       " 'ABX': 41,\n",
       " 'AP': 33,\n",
       " 'AP-HL': 109,\n",
       " 'AP-TL': 131,\n",
       " 'AT': 0,\n",
       " 'AT-HL': 75,\n",
       " 'AT-TL': 77,\n",
       " 'BE': 47,\n",
       " 'BE-HL': 139,\n",
       " 'BED': 72,\n",
       " 'BEDZ': 23,\n",
       " 'BEDZ*': 83,\n",
       " 'BEG': 74,\n",
       " 'BEM': 122,\n",
       " 'BEN': 26,\n",
       " 'BER': 34,\n",
       " 'BER-HL': 104,\n",
       " 'BEZ': 50,\n",
       " 'BEZ-HL': 133,\n",
       " 'CC': 21,\n",
       " 'CC-HL': 129,\n",
       " 'CC-TL': 85,\n",
       " 'CD': 45,\n",
       " 'CD-HL': 100,\n",
       " 'CD-TL': 91,\n",
       " 'CS': 12,\n",
       " 'CS-HL': 110,\n",
       " 'DO': 57,\n",
       " 'DO*': 135,\n",
       " 'DOD': 32,\n",
       " 'DOD*': 82,\n",
       " 'DOZ': 79,\n",
       " 'DOZ*': 140,\n",
       " 'DT': 30,\n",
       " 'DT$': 111,\n",
       " 'DT-HL': 138,\n",
       " 'DTI': 13,\n",
       " 'DTS': 36,\n",
       " 'DTX': 120,\n",
       " 'EX': 62,\n",
       " 'FW-DT': 114,\n",
       " 'FW-IN': 113,\n",
       " 'FW-IN+NN': 144,\n",
       " 'FW-NN': 118,\n",
       " 'HV': 35,\n",
       " 'HVD': 19,\n",
       " 'HVG': 119,\n",
       " 'HVN': 112,\n",
       " 'HVZ': 52,\n",
       " 'IN': 7,\n",
       " 'IN-HL': 97,\n",
       " 'IN-TL': 22,\n",
       " 'JJ': 9,\n",
       " 'JJ-HL': 98,\n",
       " 'JJ-TL': 3,\n",
       " 'JJR': 48,\n",
       " 'JJR-HL': 142,\n",
       " 'JJS': 69,\n",
       " 'JJS-TL': 102,\n",
       " 'JJT': 40,\n",
       " 'JJT-HL': 146,\n",
       " 'MD': 46,\n",
       " 'MD*': 86,\n",
       " 'MD*-HL': 108,\n",
       " 'MD-HL': 95,\n",
       " 'NN': 6,\n",
       " 'NN$': 58,\n",
       " 'NN$-TL': 51,\n",
       " 'NN-HL': 42,\n",
       " 'NN-TL': 2,\n",
       " 'NN-TL-HL': 128,\n",
       " 'NNS': 14,\n",
       " 'NNS$': 87,\n",
       " 'NNS$-TL': 117,\n",
       " 'NNS-HL': 59,\n",
       " 'NNS-TL': 67,\n",
       " 'NNS-TL-HL': 137,\n",
       " 'NP': 25,\n",
       " 'NP$': 8,\n",
       " 'NP-HL': 80,\n",
       " 'NP-TL': 1,\n",
       " 'NPS': 68,\n",
       " 'NPS$': 126,\n",
       " 'NPS-HL': 125,\n",
       " 'NR': 5,\n",
       " 'NR$': 81,\n",
       " 'NR-TL': 116,\n",
       " 'OD': 73,\n",
       " 'OD-TL': 121,\n",
       " 'PN': 54,\n",
       " 'PP$': 56,\n",
       " 'PP$$': 145,\n",
       " 'PPL': 78,\n",
       " 'PPLS': 99,\n",
       " 'PPO': 38,\n",
       " 'PPS': 31,\n",
       " 'PPS+BEZ': 130,\n",
       " 'PPS+HVZ': 105,\n",
       " 'PPSS': 55,\n",
       " 'PPSS+BEM': 90,\n",
       " 'PPSS+BER': 88,\n",
       " 'PPSS+HVD': 143,\n",
       " 'PPSS+MD': 124,\n",
       " 'QL': 39,\n",
       " 'QLP': 141,\n",
       " 'RB': 29,\n",
       " 'RB-HL': 123,\n",
       " 'RBR': 16,\n",
       " 'RBT': 92,\n",
       " 'RP': 70,\n",
       " 'RP-HL': 107,\n",
       " 'TO': 27,\n",
       " 'TO-HL': 134,\n",
       " 'UH-TL': 132,\n",
       " 'VB': 28,\n",
       " 'VB-HL': 63,\n",
       " 'VBD': 4,\n",
       " 'VBD-HL': 106,\n",
       " 'VBG': 37,\n",
       " 'VBG-HL': 76,\n",
       " 'VBG-TL': 49,\n",
       " 'VBN': 24,\n",
       " 'VBN-HL': 43,\n",
       " 'VBN-TL': 115,\n",
       " 'VBN-TL-HL': 136,\n",
       " 'VBZ': 20,\n",
       " 'VBZ-HL': 96,\n",
       " 'WDT': 18,\n",
       " 'WP$': 127,\n",
       " 'WPO': 101,\n",
       " 'WPS': 60,\n",
       " 'WRB': 44,\n",
       " '``': 10}"
      ]
     },
     "execution_count": 6,
     "metadata": {},
     "output_type": "execute_result"
    }
   ],
   "source": [
    "tag_dic"
   ]
  },
  {
   "cell_type": "code",
   "execution_count": null,
   "metadata": {},
   "outputs": [],
   "source": []
  },
  {
   "cell_type": "code",
   "execution_count": 7,
   "metadata": {},
   "outputs": [],
   "source": [
    "class LSTMTagger(nn.Module):\n",
    "    \n",
    "    def __init__(self, embedding_dim, hidden_dim, vocab_size, target_size):\n",
    "        super(LSTMTagger, self).__init__()\n",
    "        self.hidden_dim = hidden_dim\n",
    "        \n",
    "        self.word_embedding = nn.Embedding(vocab_size, embedding_dim)\n",
    "        \n",
    "        self.lstm = nn.LSTM(embedding_dim, hidden_dim)\n",
    "        \n",
    "        self.hidden2tag = nn.Linear(hidden_dim, target_size)\n",
    "        self.hidden = self.init_hidden()\n",
    "        \n",
    "    def init_hidden(self):\n",
    "        return(autograd.Variable(torch.zeros(1, 1, self.hidden_dim)),\n",
    "              autograd.Variable(torch.zeros(1, 1, self.hidden_dim)))\n",
    "    \n",
    "    def forward(self, sentence):\n",
    "        embeds = self.word_embedding(sentence)\n",
    "        lstm_out, self.hidden = self.lstm(embeds.view(len(sentence), 1, -1), self.hidden)\n",
    "        tag_space = self.hidden2tag(lstm_out.view(len(sentence), -1))\n",
    "        tag_scores = F.log_softmax(tag_space, dim=1)\n",
    "        return(tag_scores)"
   ]
  },
  {
   "cell_type": "code",
   "execution_count": 8,
   "metadata": {},
   "outputs": [],
   "source": [
    "model = LSTMTagger(EMBEDDING_DIM, HIDDEN_DIM, len(word_to_ix), len(tag_dic))\n",
    "loss_function = nn.NLLLoss()\n",
    "optimizer = optim.SGD(model.parameters(), lr=0.1)\n",
    "\n",
    "inputs = prepare_sequence(data_set[0][0], word_to_ix)\n",
    "tag_scores = model(inputs)\n",
    "l=[]\n",
    "for epoch in range(10): \n",
    "    for sentence, tags in data_set:\n",
    "        #clear the gradient before each instance\n",
    "        model.zero_grad()\n",
    "        #clear out the hidden state of the lstm\n",
    "        #detaching it from its history on the last instance\n",
    "        model.hidden = model.init_hidden()\n",
    "        \n",
    "        #get the inputs ready for the network : turn them into variable os word indices\n",
    "        sentence_in = prepare_sequence(sentence, word_to_ix)\n",
    "        targets = prepare_sequence(tags, tag_dic)\n",
    "        \n",
    "        #forward pass\n",
    "        tag_scores = model(sentence_in)\n",
    "        \n",
    "        #compute the loss, gradient, and update the parameters \n",
    "        loss = loss_function(tag_scores, targets)\n",
    "        loss.backward()\n",
    "        optimizer.step()\n",
    "        l.append(loss)\n",
    "        \n",
    "inputs = prepare_sequence(data_set[0][0], word_to_ix)\n",
    "tag_scores = model(inputs)\n"
   ]
  },
  {
   "cell_type": "code",
   "execution_count": 9,
   "metadata": {},
   "outputs": [],
   "source": [
    "import numpy as np\n",
    "lo = np.array(l).flatten()"
   ]
  },
  {
   "cell_type": "code",
   "execution_count": 10,
   "metadata": {},
   "outputs": [
    {
     "data": {
      "text/plain": [
       "[<matplotlib.lines.Line2D at 0x7fa77863fba8>]"
      ]
     },
     "execution_count": 10,
     "metadata": {},
     "output_type": "execute_result"
    },
    {
     "data": {
      "image/png": "[encoded data removed]",
      "text/plain": [
       "<matplotlib.figure.Figure at 0x7fa7786782e8>"
      ]
     },
     "metadata": {},
     "output_type": "display_data"
    }
   ],
   "source": [
    "plt.plot(lo)"
   ]
  },
  {
   "cell_type": "code",
   "execution_count": null,
   "metadata": {},
   "outputs": [],
   "source": []
  }
 ],
 "metadata": {
  "kernelspec": {
   "display_name": "Python 3",
   "language": "python",
   "name": "python3"
  },
  "language_info": {
   "codemirror_mode": {
    "name": "ipython",
    "version": 3
   },
   "file_extension": ".py",
   "mimetype": "text/x-python",
   "name": "python",
   "nbconvert_exporter": "python",
   "pygments_lexer": "ipython3",
   "version": "3.5.2"
  }
 },
 "nbformat": 4,
 "nbformat_minor": 2
}
